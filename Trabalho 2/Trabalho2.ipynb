{
  "nbformat": 4,
  "nbformat_minor": 0,
  "metadata": {
    "colab": {
      "provenance": [],
      "authorship_tag": "ABX9TyOI3Z7qnPKg2vYDsAV724c1",
      "include_colab_link": true
    },
    "kernelspec": {
      "name": "python3",
      "display_name": "Python 3"
    },
    "language_info": {
      "name": "python"
    }
  },
  "cells": [
    {
      "cell_type": "markdown",
      "metadata": {
        "id": "view-in-github",
        "colab_type": "text"
      },
      "source": [
        "<a href=\"https://colab.research.google.com/github/Diana9908/TP547/blob/main/Trabalho%202/Trabalho2.ipynb\" target=\"_parent\"><img src=\"https://colab.research.google.com/assets/colab-badge.svg\" alt=\"Open In Colab\"/></a>"
      ]
    },
    {
      "cell_type": "code",
      "source": [
        "# Exercicio 1\n",
        "import numpy as np\n",
        "import random\n",
        "\n",
        "vermelhas = ['vermelha'] * 10\n",
        "azuis = ['azul'] * 10\n",
        "amarelas = ['amarela'] * 10\n",
        "roxas = ['roxa'] * 10\n",
        "\n",
        "quant_vm = list()\n",
        "quant_az = list()\n",
        "quant_am = list()\n",
        "quant_rx = list()\n",
        "\n",
        "extracoes = 8               # Número de bolas extraídas por iteração\n",
        "iteracoes = 100000          # Número total de iterações Monte Carlo\n",
        "\n",
        "for iteracao in range(iteracoes):\n",
        "  # Reconstrói o chapéu no início de cada iteração\n",
        "  chapeu = vermelhas + azuis + amarelas + roxas\n",
        "  # Contadores locais para cada cor nesta iteração\n",
        "  quant_vermelho = 0\n",
        "  quant_azuis = 0\n",
        "  quant_amarelas = 0\n",
        "  quant_roxas = 0\n",
        "  # Extrai bolas uma a uma\n",
        "  for i in range(extracoes):\n",
        "    # Escolhe aleatoriamente uma bola\n",
        "    bola = random.choice(chapeu)\n",
        "    # Atualiza o contador conforme a cor da bola extraída\n",
        "    if bola in vermelhas:\n",
        "      quant_vermelho += 1\n",
        "    elif bola in azuis:\n",
        "      quant_azuis += 1\n",
        "    elif bola in amarelas:\n",
        "      quant_amarelas += 1\n",
        "    else:\n",
        "      quant_roxas += 1\n",
        "\n",
        "    # Para simular sem reposição, descomente a linha abaixo:\n",
        "    #chapeu.remove(bola)\n",
        "\n",
        "  # Armazena os resultados desta iteração\n",
        "  quant_vm.append(quant_vermelho)\n",
        "  quant_az.append(quant_azuis)\n",
        "  quant_am.append(quant_amarelas)\n",
        "  quant_rx.append(quant_roxas)\n",
        "\n",
        "quant_az = np.array(quant_az)\n",
        "quant_rx = np.array(quant_rx)\n",
        "\n",
        "# Máscara booleana: True quando saiu mais de uma bola azul e violeta\n",
        "mask_azules_roxas = (quant_az >= 1) & (quant_rx >= 1)\n",
        "# Cálculo da probabilidade\n",
        "P = np.sum(mask_azules_roxas)/iteracoes\n",
        "print(P)\n"
      ],
      "metadata": {
        "colab": {
          "base_uri": "https://localhost:8080/"
        },
        "id": "eAOWhAHuZ7d6",
        "outputId": "129344ee-eb79-446f-ed72-be13855a7f75"
      },
      "execution_count": 68,
      "outputs": [
        {
          "output_type": "stream",
          "name": "stdout",
          "text": [
            "0.80307\n"
          ]
        }
      ]
    },
    {
      "cell_type": "code",
      "source": [
        "# Exercício 2\n",
        "import numpy as np\n",
        "import random\n",
        "\n",
        "dado = (1,2,3,4,5,6)\n",
        "iteracoes = 100000\n",
        "suma = list()\n",
        "\n",
        "for iteracao in range(iteracoes):\n",
        "  # Sorteia a face dos dados\n",
        "  d1 = random.choice(dado)\n",
        "  d2 = random.choice(dado)\n",
        "  # Soma dos dois lançamentos\n",
        "  suma.append(d1 + d2)\n",
        "\n",
        "suma = np.array(suma)\n",
        "# Máscara booleana: True onde a soma é ≥ 10\n",
        "mask = suma >= 10\n",
        "# Cálculo da probabilidade\n",
        "P = np.sum(mask)/iteracoes\n",
        "print(P)\n"
      ],
      "metadata": {
        "colab": {
          "base_uri": "https://localhost:8080/"
        },
        "id": "e1KCW2tJnXim",
        "outputId": "c027e5fd-8c9d-4adf-d2b7-239e9d4cd46a"
      },
      "execution_count": 69,
      "outputs": [
        {
          "output_type": "stream",
          "name": "stdout",
          "text": [
            "0.16504\n"
          ]
        }
      ]
    },
    {
      "cell_type": "code",
      "source": [
        "# Exercício 3\n",
        "import numpy as np\n",
        "import random\n",
        "\n",
        "jogadas = 100                     # Máximo de apostas por simulação\n",
        "iteracoes = 10000                 # Simulações Monte Carlo\n",
        "capital_inicial = 10              # Capital inicial\n",
        "\n",
        "dado = (1, 2, 3, 4, 5, 6)\n",
        "ganho_neto = list()               # Lucro líquido total por simulação\n",
        "ganho_medio_jogadas = list()      # Lucro médio por aposta em cada simulação\n",
        "\n",
        "for i in range(iteracoes):\n",
        "    cont_jogadas = 0              # Contador de apostas\n",
        "    dinheiro = capital_inicial    # Saldo atual do jogador em cada simulação\n",
        "\n",
        "    for _ in range(jogadas):\n",
        "\n",
        "        # O jogador aposta enquanto tiver dinheiro\n",
        "\n",
        "        if dinheiro > 0:\n",
        "            cont_jogadas += 1\n",
        "            dinheiro -= 1         # Paga 1 real para fazer a aposta\n",
        "\n",
        "            # Lança 4 dados\n",
        "            d1 = random.choice(dado)\n",
        "            d2 = random.choice(dado)\n",
        "            d3 = random.choice(dado)\n",
        "            d4 = random.choice(dado)\n",
        "            soma = d1 + d2 + d3 + d4\n",
        "\n",
        "            # Se a soma for < 12, recebe 20 reais de volta\n",
        "            if soma < 12:\n",
        "                dinheiro += 20\n",
        "        else:\n",
        "           # Sai do loop se o jogador ficar sem dinheiro\n",
        "            break\n",
        "\n",
        "    ganho_neto.append(dinheiro - capital_inicial)     # Lucro líquido\n",
        "    ganho_medio_jogadas.append((dinheiro - capital_inicial) / cont_jogadas)   # Lucro médio por aposta\n",
        "\n",
        "# Médias em todas as simulações\n",
        "media_ganho_neto = np.sum(ganho_neto) / iteracoes\n",
        "media_ganho_jogadas = np.sum(ganho_medio_jogadas) / iteracoes\n",
        "\n",
        "def Rentabilidade(x):\n",
        "    if x > 0:\n",
        "        return 'Você ganhará dinheiro a longo prazo'\n",
        "    else:\n",
        "        return 'Você perderá dinheiro a longo prazo'\n",
        "\n",
        "print('Seu lucro líquido médio é de:', media_ganho_neto)\n",
        "print(Rentabilidade(media_ganho_neto))\n",
        "print('Ganho médio por jogada:', media_ganho_jogadas)\n"
      ],
      "metadata": {
        "id": "FrNS5DPY5FAM",
        "colab": {
          "base_uri": "https://localhost:8080/"
        },
        "outputId": "ad075898-6c63-44fc-aa19-af1c31f3efcd"
      },
      "execution_count": 54,
      "outputs": [
        {
          "output_type": "stream",
          "name": "stdout",
          "text": [
            "Seu lucro líquido médio é de: 355.88\n",
            "Você ganhará dinheiro a longo prazo\n",
            "Ganho médio por jogada: 3.4979066666666667\n"
          ]
        }
      ]
    },
    {
      "cell_type": "markdown",
      "source": [
        "$$\n",
        "I = \\int_{0}^{1} \\bigl(1 - x^{5}\\bigr)^{\\tfrac{7}{2}} \\, dx\n",
        "$$"
      ],
      "metadata": {
        "id": "5HUXkK0T5Nin"
      }
    },
    {
      "cell_type": "code",
      "source": [
        "# Exercício 4 a) (Integração Monte Carlo)\n",
        "import numpy as np\n",
        "N = 10000\n",
        "# Gera N numeros aleatorios Un uniformemente distribuidos em [0,1]\n",
        "U = np.random.uniform(0, 1, N)\n",
        "# Calcular g(Un)\n",
        "g = (1 - U**5)**(7/2)\n",
        "# A itegral e aproximadamente igual à media desses valores\n",
        "integral = np.mean(g)\n",
        "print(integral)"
      ],
      "metadata": {
        "colab": {
          "base_uri": "https://localhost:8080/"
        },
        "id": "QTLsSUU5ilPV",
        "outputId": "0b24c8dd-7403-4d33-a9a5-da2aa12d42fa"
      },
      "execution_count": 56,
      "outputs": [
        {
          "output_type": "stream",
          "name": "stdout",
          "text": [
            "0.6952880085694716\n"
          ]
        }
      ]
    },
    {
      "cell_type": "markdown",
      "source": [
        "$$\n",
        "g(x) \\;=\\; \\frac{9}{2}\\,(1 - x)^{\\tfrac{7}{2}},\n",
        "\\quad 0 \\le x \\le 1\n",
        "$$\n",
        "\n",
        "$$\n",
        "G(x)\n",
        "\\;=\\;\\int_0^x g(x)\\,dx\n",
        "\\;=\\;1 - (1 - x)^{\\tfrac{9}{2}}\n",
        "$$\n",
        "$$\n",
        "\\;\n",
        "x \\;=\\; G^{-1}(u)\n",
        "\\;=\\;1 - (1 - u)^{\\tfrac{2}{9}}\\;=\\;1 - (u)^{\\tfrac{2}{9}}.\n",
        "$$"
      ],
      "metadata": {
        "id": "Lq4dnS059nqe"
      }
    },
    {
      "cell_type": "code",
      "source": [
        "# Exercício 4 a) (Amostragem por importancia)\n",
        "import numpy as np\n",
        "import matplotlib.pyplot as plt\n",
        "N = 10000\n",
        "# Gera N numeros aleatorios Un uniformemente distribuidos em [0,1]\n",
        "U = np.random.uniform(0, 1, N)\n",
        "# Transforma U para seguir a distribuição g(x) usando a inversa da CDF\n",
        "x = (1 - (U)**(2/9))\n",
        "#  A integral e aproximadamente igual à Média de f(x)/g(x)\n",
        "fx = (1 - (x)**5)**(7/2)\n",
        "gx = (9/2)*(1 - x)**(7/2)\n",
        "w = fx/gx\n",
        "Integral = 1/N * np.sum(w)\n",
        "print(Integral)\n",
        "\n",
        "#Plotar o grafico\n",
        "x = np.linspace(0, 1, N)\n",
        "curve_x = (1-x**5)**(7/2)\n",
        "plt.plot(x, curve_x, color='black')\n",
        "plt.fill_between(x, curve_x, color='green')\n",
        "plt.text(0.7, 0.8, f'Integral = {Integral:.4f}', fontsize=12, color='red')\n",
        "plt.xlabel('x')\n",
        "plt.ylabel('y')\n",
        "plt.show()"
      ],
      "metadata": {
        "colab": {
          "base_uri": "https://localhost:8080/",
          "height": 467
        },
        "id": "w0WHCenO4jPY",
        "outputId": "5c692a69-4f6c-4137-9f34-a9c1410e4ec0"
      },
      "execution_count": 60,
      "outputs": [
        {
          "output_type": "stream",
          "name": "stdout",
          "text": [
            "0.6919393435806634\n"
          ]
        },
        {
          "output_type": "display_data",
          "data": {
            "text/plain": [
              "<Figure size 640x480 with 1 Axes>"
            ],
            "image/png": "[encoded data removed]"
          },
          "metadata": {}
        }
      ]
    },
    {
      "cell_type": "markdown",
      "source": [
        "$$\n",
        "I = \\int_{-5}^{10} e^{\\,x + x^3}\\,dx\n",
        "  = 15 \\int_{0}^{1} e^{\\,15y - 5 + (15y - 5)^3}\\;dy\n",
        "$$"
      ],
      "metadata": {
        "id": "V-gOuKcO1sHJ"
      }
    },
    {
      "cell_type": "code",
      "source": [
        "# Exercício 4 b) (Integração Monte Carlo)\n",
        "import numpy as np\n",
        "N = 10000\n",
        "# Gera N numeros aleatorios Un uniformemente distribuidos em [0,1]\n",
        "U = np.random.uniform(0, 1, N)\n",
        "# Calcular g(Un)\n",
        "g = np.exp((15*U - 5) + (15*U - 5)**3)\n",
        "# A integral e aproximadamente igual à Média de f(x)/g(x)\n",
        "integral = np.mean(g)*15\n",
        "print(integral)"
      ],
      "metadata": {
        "colab": {
          "base_uri": "https://localhost:8080/"
        },
        "id": "eH-3k-6O-ger",
        "outputId": "a643429d-4539-48d0-8227-9ba31c96b168"
      },
      "execution_count": 61,
      "outputs": [
        {
          "output_type": "stream",
          "name": "stdout",
          "text": [
            "inf\n"
          ]
        },
        {
          "output_type": "stream",
          "name": "stderr",
          "text": [
            "<ipython-input-61-e34bc6030f02>:7: RuntimeWarning: overflow encountered in exp\n",
            "  g = np.exp((15*U - 5) + (15*U - 5)**3)\n"
          ]
        }
      ]
    },
    {
      "cell_type": "markdown",
      "source": [
        "$$\n",
        "g(y) \\;=\\; \\frac{15\\,e^{15y}}{e^{15}-1},\n",
        "\\quad 0 \\le y \\le 1\n",
        "$$\n",
        "\n",
        "$$\n",
        "G(y)\n",
        "\\;=\\;\n",
        "\\int_{0}^{y} g(y)\\,dy\n",
        "\\;=\\;\n",
        "\\frac{e^{15y}-1}{e^{15}-1}\n",
        "$$\n",
        "\n",
        "$$\n",
        "y \\;=\\; G^{-1}(u)\n",
        "\\;=\\;\n",
        "\\frac{1}{15}\\,\\ln\\!\\bigl(1 + u\\,(e^{15}-1)\\bigr)\n",
        "$$"
      ],
      "metadata": {
        "id": "GApencYS_r-W"
      }
    },
    {
      "cell_type": "code",
      "source": [
        "# Exercício 4 b) (Amostragem por importancia)\n",
        "import numpy as np\n",
        "N = 100000\n",
        "# Gera N numeros aleatorios Un uniformemente distribuidos em [0,1]\n",
        "U = np.random.uniform(0, 1, N)\n",
        "# Transforma U para seguir a distribuição g(x) usando a inversa da CDF\n",
        "x = (1/15)*np.log(U*(np.exp(15)-1)+1)\n",
        "# A integral e aproximadamente igual à Média de f(x)/g(x)\n",
        "fx = 15*np.exp((15*x-5)+(15*x-5)**3)\n",
        "gx = (15)/(np.exp(15)-1)*np.exp(15*x)\n",
        "w = fx/gx\n",
        "Integral = 1/N * np.sum(w)\n",
        "print(Integral)\n"
      ],
      "metadata": {
        "colab": {
          "base_uri": "https://localhost:8080/"
        },
        "id": "101YQ342-Qne",
        "outputId": "c40d7a10-e082-46bb-f7c1-54898281208a"
      },
      "execution_count": 62,
      "outputs": [
        {
          "output_type": "stream",
          "name": "stdout",
          "text": [
            "inf\n"
          ]
        },
        {
          "output_type": "stream",
          "name": "stderr",
          "text": [
            "<ipython-input-62-3bc685512f21>:9: RuntimeWarning: overflow encountered in exp\n",
            "  fx = 15*np.exp((15*x-5)+(15*x-5)**3)\n",
            "<ipython-input-62-3bc685512f21>:9: RuntimeWarning: overflow encountered in multiply\n",
            "  fx = 15*np.exp((15*x-5)+(15*x-5)**3)\n"
          ]
        }
      ]
    },
    {
      "cell_type": "markdown",
      "source": [
        "$$\n",
        "\\int_{0}^{\\infty} x^{2}\\,(1 + x^{2})^{-3}\\,dx\n",
        "\\;=\\;\n",
        "\\int_{0}^{1} \\frac{y^{2}\\,(1 - y)^{2}}{\\bigl(2y^{2} - 2y +1\\bigr)^{3}}\\,dy\n",
        "$$"
      ],
      "metadata": {
        "id": "b6UE0zON4SxJ"
      }
    },
    {
      "cell_type": "code",
      "source": [
        "# Exercício 4 c) (Integração Monte Carlo)\n",
        "import numpy as np\n",
        "N = 10000\n",
        "# Gera N numeros aleatorios Un uniformemente distribuidos em [0,1]\n",
        "U = np.random.uniform(0, 1, N)\n",
        "# Calcular g(Un)\n",
        "x = (1/U - 1)\n",
        "# A integral e aproximadamente igual à media desses valores\n",
        "integral = np.mean(((x**2)*(1 + x**2)**-3)/U**2)\n",
        "print(integral)\n"
      ],
      "metadata": {
        "colab": {
          "base_uri": "https://localhost:8080/"
        },
        "id": "mIVTji4Qqx7S",
        "outputId": "c813896f-8f5b-461b-9f14-113c8f0ac1c1"
      },
      "execution_count": 65,
      "outputs": [
        {
          "output_type": "stream",
          "name": "stdout",
          "text": [
            "0.19256362368288496\n"
          ]
        }
      ]
    },
    {
      "cell_type": "markdown",
      "source": [
        "$$\n",
        "g(y) \\;=\\; 3\\,(1 - y)^{2},\n",
        "\\quad 0 \\le y \\le 1\n",
        "$$\n",
        "\n",
        "$$\n",
        "G(y)\n",
        "\\;=\\;\n",
        "\\int_{0}^{y} g(y)\\,dy\n",
        "\\;=\\;\n",
        "1 - (1 - y)^{3}\n",
        "$$\n",
        "\n",
        "$$\n",
        "y \\;=\\; G^{-1}(u)\n",
        "\\;=\\;\n",
        "1 - (1 - u)^{\\tfrac{1}{3}}\n",
        "\\;=\\;\n",
        "1 - (u)^{\\tfrac{1}{3}}\n",
        "$$"
      ],
      "metadata": {
        "id": "654azw-xAk2z"
      }
    },
    {
      "cell_type": "code",
      "source": [
        "# Exercício 4 c) (Amostragem por importancia)\n",
        "import numpy as np\n",
        "import matplotlib.pyplot as plt\n",
        "\n",
        "N = 1000000\n",
        "# Gera N numeros aleatorios Un uniformemente distribuidos em [0,1]\n",
        "U = np.random.uniform(0, 1, N)\n",
        "# Transforma U para seguir a distribuição g(x) usando a inversa da CDF\n",
        "x = 1 - (1 - U)**(1/3)\n",
        "# A integral e aproximadamente igual à Média de f(x)/g(x)\n",
        "fx = ((x**2)*(1-x)**2)/((2*(x**2)-2*x+1)**3)\n",
        "gx = 3*(1-x)**2\n",
        "w = fx/gx\n",
        "integral = 1/N * np.sum(w)\n",
        "print(integral)\n",
        "\n",
        "#Plotar o grafico\n",
        "y = np.linspace(0, 1, 1000)\n",
        "curve_y = ((y**2)*(1-y)**2)/((2*(y**2)-2*y+1)**3)\n",
        "plt.plot(y, curve_y, color='black')\n",
        "plt.fill_between(y, curve_y, color='green')\n",
        "plt.text(0.6, 0.5, f'Integral = {integral:.4f}', fontsize=12, color='red')\n",
        "plt.xlabel('x')\n",
        "plt.ylabel('y')\n",
        "plt.show()"
      ],
      "metadata": {
        "colab": {
          "base_uri": "https://localhost:8080/",
          "height": 467
        },
        "id": "DX7q6e9I9wD9",
        "outputId": "e6613287-63c9-46a4-8f4d-f8f3238fb2f4"
      },
      "execution_count": 67,
      "outputs": [
        {
          "output_type": "stream",
          "name": "stdout",
          "text": [
            "0.19614486533555395\n"
          ]
        },
        {
          "output_type": "display_data",
          "data": {
            "text/plain": [
              "<Figure size 640x480 with 1 Axes>"
            ],
            "image/png": "[encoded data removed]"
          },
          "metadata": {}
        }
      ]
    }
  ]
}