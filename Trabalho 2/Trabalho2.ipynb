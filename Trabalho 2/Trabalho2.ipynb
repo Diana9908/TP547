{
  "nbformat": 4,
  "nbformat_minor": 0,
  "metadata": {
    "colab": {
      "provenance": [],
      "authorship_tag": "ABX9TyPORKnM5wkT+jrSGEBxB328",
      "include_colab_link": true
    },
    "kernelspec": {
      "name": "python3",
      "display_name": "Python 3"
    },
    "language_info": {
      "name": "python"
    }
  },
  "cells": [
    {
      "cell_type": "markdown",
      "metadata": {
        "id": "view-in-github",
        "colab_type": "text"
      },
      "source": [
        "<a href=\"https://colab.research.google.com/github/Diana9908/TP547/blob/main/Trabalho%202/Trabalho2.ipynb\" target=\"_parent\"><img src=\"https://colab.research.google.com/assets/colab-badge.svg\" alt=\"Open In Colab\"/></a>"
      ]
    },
    {
      "cell_type": "code",
      "source": [
        "# Exercicio 1\n",
        "import numpy as np\n",
        "import random\n",
        "\n",
        "vermelhas = ['vermelha'] * 10\n",
        "azuis = ['azul'] * 10\n",
        "amarelas = ['amarela'] * 10\n",
        "roxas = ['roxa'] * 10\n",
        "\n",
        "quant_vm = list()\n",
        "quant_az = list()\n",
        "quant_am = list()\n",
        "quant_rx = list()\n",
        "\n",
        "extracoes = 8               # Número de bolas extraídas por iteração\n",
        "iteracoes = 10000           # Número total de iterações Monte Carlo\n",
        "\n",
        "for iteracao in range(iteracoes):\n",
        "  # Reconstrói o chapéu no início de cada iteração\n",
        "  chapeu = vermelhas + azuis + amarelas + roxas\n",
        "  # Contadores locais para cada cor nesta iteração\n",
        "  quant_vermelho = 0\n",
        "  quant_azuis = 0\n",
        "  quant_amarelas = 0\n",
        "  quant_roxas = 0\n",
        "  # Extrai bolas uma a uma\n",
        "  for i in range(extracoes):\n",
        "    # Escolhe aleatoriamente uma bola\n",
        "    bola = random.choice(chapeu)\n",
        "    # Atualiza o contador conforme a cor da bola extraída\n",
        "    if bola in vermelhas:\n",
        "      quant_vermelho += 1\n",
        "    elif bola in azuis:\n",
        "      quant_azuis += 1\n",
        "    elif bola in amarelas:\n",
        "      quant_amarelas += 1\n",
        "    else:\n",
        "      quant_roxas += 1\n",
        "\n",
        "    # Para simular sem reposição, descomente a linha abaixo:\n",
        "    #chapeu.remove(bola)\n",
        "\n",
        "  # Armazena os resultados desta iteração\n",
        "  quant_vm.append(quant_vermelho)\n",
        "  quant_az.append(quant_azuis)\n",
        "  quant_am.append(quant_amarelas)\n",
        "  quant_rx.append(quant_roxas)\n",
        "\n",
        "quant_az = np.array(quant_az)\n",
        "quant_rx = np.array(quant_rx)\n",
        "\n",
        "# Máscara booleana: True quando saiu mais de uma bola azul e violeta\n",
        "mask_azules_roxas = (quant_az >= 1) & (quant_rx >= 1)\n",
        "# Cálculo da probabilidade\n",
        "P = np.sum(mask_azules_roxas)/iteracoes\n",
        "print(P)\n"
      ],
      "metadata": {
        "colab": {
          "base_uri": "https://localhost:8080/"
        },
        "id": "eAOWhAHuZ7d6",
        "outputId": "3957c14d-20b4-43ad-f260-99a3c077ab0c"
      },
      "execution_count": null,
      "outputs": [
        {
          "output_type": "stream",
          "name": "stdout",
          "text": [
            "0.8037\n"
          ]
        }
      ]
    },
    {
      "cell_type": "code",
      "source": [
        "# Exercício 2\n",
        "import numpy as np\n",
        "import random\n",
        "\n",
        "dado = (1,2,3,4,5,6)\n",
        "iteracoes = 100000\n",
        "suma = list()\n",
        "\n",
        "for iteracao in range(iteracoes):\n",
        "  # Sorteia a face dos dados\n",
        "  d1 = random.choice(dado)\n",
        "  d2 = random.choice(dado)\n",
        "  # Soma dos dois lançamentos\n",
        "  suma.append(d1 + d2)\n",
        "\n",
        "suma = np.array(suma)\n",
        "# Máscara booleana: True onde a soma é ≥ 10\n",
        "mask = suma >= 10\n",
        "# Cálculo da probabilidade\n",
        "P = np.sum(mask)/iteracoes\n",
        "print(P)\n"
      ],
      "metadata": {
        "colab": {
          "base_uri": "https://localhost:8080/"
        },
        "id": "e1KCW2tJnXim",
        "outputId": "19be0335-55b1-4c52-cd1a-5440edf67bf1"
      },
      "execution_count": null,
      "outputs": [
        {
          "output_type": "stream",
          "name": "stdout",
          "text": [
            "0.16782\n"
          ]
        }
      ]
    },
    {
      "cell_type": "code",
      "source": [
        "# Exercício 3\n",
        "import numpy as np\n",
        "import random\n",
        "\n",
        "jogadas = 100                     # Máximo de apostas por simulação\n",
        "iteracoes = 10000                 # Simulações Monte Carlo\n",
        "capital_inicial = 10              # Capital inicial\n",
        "\n",
        "dado = (1, 2, 3, 4, 5, 6)\n",
        "ganho_neto = list()               # Lucro líquido total por simulação\n",
        "ganho_medio_jogadas = list()      # Lucro médio por aposta em cada simulação\n",
        "\n",
        "for i in range(iteracoes):\n",
        "    cont_jogadas = 0              # Contador de apostas\n",
        "    dinheiro = capital_inicial    # Saldo atual do jogador em cada simulação\n",
        "\n",
        "    for _ in range(jogadas):\n",
        "\n",
        "        # O jogador aposta enquanto tiver dinheiro\n",
        "\n",
        "        if dinheiro > 0:\n",
        "            cont_jogadas += 1\n",
        "            dinheiro -= 1         # Paga 1 real para fazer a aposta\n",
        "\n",
        "            # Lança 4 dados\n",
        "            d1 = random.choice(dado)\n",
        "            d2 = random.choice(dado)\n",
        "            d3 = random.choice(dado)\n",
        "            d4 = random.choice(dado)\n",
        "            soma = d1 + d2 + d3 + d4\n",
        "\n",
        "            # Se a soma for < 12, recebe 20 reais de volta\n",
        "            if soma < 12:\n",
        "                dinheiro += 20\n",
        "        else:\n",
        "           # Sai do loop se o jogador ficar sem dinheiro\n",
        "            break\n",
        "\n",
        "    ganho_neto.append(dinheiro - capital_inicial)     # Lucro líquido\n",
        "    ganho_medio_jogadas.append((dinheiro - capital_inicial) / cont_jogadas)   # Lucro médio por aposta\n",
        "\n",
        "# Médias em todas as simulações\n",
        "media_ganho_neto = np.sum(ganho_neto) / iteracoes\n",
        "media_ganho_jogadas = np.sum(ganho_medio_jogadas) / iteracoes\n",
        "\n",
        "def Rentabilidade(x):\n",
        "    if x > 0:\n",
        "        return 'Você ganhará dinheiro a longo prazo'\n",
        "    else:\n",
        "        return 'Você perderá dinheiro a longo prazo'\n",
        "\n",
        "print('Seu lucro líquido médio é de:', media_ganho_neto)\n",
        "print(Rentabilidade(media_ganho_neto))\n",
        "print('Ganho médio por jogada:', media_ganho_jogadas)\n"
      ],
      "metadata": {
        "id": "FrNS5DPY5FAM",
        "colab": {
          "base_uri": "https://localhost:8080/"
        },
        "outputId": "4cd736e1-cc90-4a24-81f8-6e5a7d7d7d12"
      },
      "execution_count": 7,
      "outputs": [
        {
          "output_type": "stream",
          "name": "stdout",
          "text": [
            "Seu lucro líquido médio é de: 355.558\n",
            "Você ganhará dinheiro a longo prazo\n",
            "Ganho médio por jogada: 3.4965799999999994\n"
          ]
        }
      ]
    },
    {
      "cell_type": "markdown",
      "source": [
        "$$\n",
        "I = \\int_{0}^{1} \\bigl(1 - x^{5}\\bigr)^{\\tfrac{7}{2}} \\, dx\n",
        "$$"
      ],
      "metadata": {
        "id": "5HUXkK0T5Nin"
      }
    },
    {
      "cell_type": "code",
      "source": [
        "# Exercício 4 a) (Integração Monte Carlo)\n",
        "import numpy as np\n",
        "N = 10000\n",
        "# Gera N numeros aleatorios Un uniformemente distribudos em [0,1]\n",
        "U = np.random.uniform(0, 1, N)\n",
        "# Calcular g(Un)\n",
        "g = (1 - U**5)**(7/2)\n",
        "# A itegral e aproximadamente igual à media desses valores\n",
        "integral = np.mean(g)\n",
        "print(integral)"
      ],
      "metadata": {
        "colab": {
          "base_uri": "https://localhost:8080/"
        },
        "id": "QTLsSUU5ilPV",
        "outputId": "0dfd6f0d-88b3-457e-8377-70f6a42921e2"
      },
      "execution_count": null,
      "outputs": [
        {
          "output_type": "stream",
          "name": "stdout",
          "text": [
            "0.6963089509815471\n"
          ]
        }
      ]
    },
    {
      "cell_type": "markdown",
      "source": [
        "$$\n",
        "g(x) \\;=\\; \\frac{9}{2}\\,(1 - x)^{\\tfrac{7}{2}},\n",
        "\\quad 0 \\le x \\le 1\n",
        "$$\n",
        "\n",
        "$$\n",
        "G(x)\n",
        "\\;=\\;\\int_0^x g(x)\\,dx\n",
        "\\;=\\;1 - (1 - x)^{\\tfrac{9}{2}}\n",
        "$$\n",
        "$$\n",
        "\\;\n",
        "x \\;=\\; G^{-1}(u)\n",
        "\\;=\\;1 - (1 - u)^{\\tfrac{2}{9}}\\;=\\;1 - (u)^{\\tfrac{2}{9}}.\n",
        "$$"
      ],
      "metadata": {
        "id": "Lq4dnS059nqe"
      }
    },
    {
      "cell_type": "code",
      "source": [
        "# Exercício 4 a) (Amostragem por importancia)\n",
        "import numpy as np\n",
        "N = 10000\n",
        "# Gera N numeros aleatorios Un uniformemente distribudos em [0,1]\n",
        "U = np.random.uniform(0, 1, N)\n",
        "# Transforma U para seguir a distribuição g(x) usando a inversa da CDF\n",
        "x = (1 - (U)**(2/9))\n",
        "#  A itegral e aproximadamente igual à Média de f(x)/g(x)\n",
        "fx = (1 - (x)**5)**(7/2)\n",
        "gx = (9/2)*(1 - x)**(7/2)\n",
        "w = fx/gx\n",
        "Integral = 1/N * np.sum(w)\n",
        "print(Integral)"
      ],
      "metadata": {
        "colab": {
          "base_uri": "https://localhost:8080/"
        },
        "id": "w0WHCenO4jPY",
        "outputId": "9634fb16-b598-494b-ad79-55f77211286b"
      },
      "execution_count": null,
      "outputs": [
        {
          "output_type": "stream",
          "name": "stdout",
          "text": [
            "0.6848676542222698\n"
          ]
        }
      ]
    },
    {
      "cell_type": "markdown",
      "source": [
        "$$\n",
        "I = \\int_{-5}^{10} e^{\\,x + x^3}\\,dx\n",
        "  = 15 \\int_{0}^{1} e^{\\,15y - 5 + (15y - 5)^3}\\;dy\n",
        "$$"
      ],
      "metadata": {
        "id": "V-gOuKcO1sHJ"
      }
    },
    {
      "cell_type": "code",
      "source": [
        "# Exercício 4 b) (Integração Monte Carlo)\n",
        "import numpy as np\n",
        "N = 10000\n",
        "# Gera N numeros aleatorios Un uniformemente distribudos em [0,1]\n",
        "U = np.random.uniform(0, 1, N)\n",
        "# Calcular g(Un)\n",
        "g = np.exp((15*U - 5) + (15*U - 5)**3)\n",
        "# A itegral e aproximadamente igual à Média de f(x)/g(x)\n",
        "integral = np.mean(g)*15\n",
        "print(integral)"
      ],
      "metadata": {
        "colab": {
          "base_uri": "https://localhost:8080/"
        },
        "id": "eH-3k-6O-ger",
        "outputId": "37dca089-c643-459d-a817-7aba8c4e49be"
      },
      "execution_count": null,
      "outputs": [
        {
          "output_type": "stream",
          "name": "stdout",
          "text": [
            "inf\n"
          ]
        },
        {
          "output_type": "stream",
          "name": "stderr",
          "text": [
            "<ipython-input-26-db955cffbbf7>:5: RuntimeWarning: overflow encountered in exp\n",
            "  g = np.exp((15*U - 5) + (15*U - 5)**3)\n"
          ]
        }
      ]
    },
    {
      "cell_type": "markdown",
      "source": [
        "$$\n",
        "g(y) \\;=\\; \\frac{15\\,e^{15y}}{e^{15}-1},\n",
        "\\quad 0 \\le y \\le 1\n",
        "$$\n",
        "\n",
        "$$\n",
        "G(y)\n",
        "\\;=\\;\n",
        "\\int_{0}^{y} g(y)\\,dy\n",
        "\\;=\\;\n",
        "\\frac{e^{15y}-1}{e^{15}-1}\n",
        "$$\n",
        "\n",
        "$$\n",
        "y \\;=\\; G^{-1}(u)\n",
        "\\;=\\;\n",
        "\\frac{1}{15}\\,\\ln\\!\\bigl(1 + u\\,(e^{15}-1)\\bigr)\n",
        "$$"
      ],
      "metadata": {
        "id": "GApencYS_r-W"
      }
    },
    {
      "cell_type": "code",
      "source": [
        "# Exercício 4 b) (Amostragem por importancia)\n",
        "import numpy as np\n",
        "N = 100000\n",
        "# Gera N numeros aleatorios Un uniformemente distribudos em [0,1]\n",
        "U = np.random.uniform(0, 1, N)\n",
        "# Transforma U para seguir a distribuição g(x) usando a inversa da CDF\n",
        "x = (1/15)*np.log(U*(np.exp(15)-1)+1)\n",
        "# A itegral e aproximadamente igual à Média de f(x)/g(x)\n",
        "fx = 15*np.exp((15*x-5)+(15*x-5)**3)\n",
        "gx = (15)/(np.exp(15)-1)*np.exp(15*x)\n",
        "w = fx/gx\n",
        "Integral = 1/N * np.sum(w)\n",
        "print(Integral)"
      ],
      "metadata": {
        "colab": {
          "base_uri": "https://localhost:8080/"
        },
        "id": "101YQ342-Qne",
        "outputId": "2d84e314-22c7-4092-e615-9270840de89e"
      },
      "execution_count": null,
      "outputs": [
        {
          "output_type": "stream",
          "name": "stdout",
          "text": [
            "inf\n"
          ]
        },
        {
          "output_type": "stream",
          "name": "stderr",
          "text": [
            "<ipython-input-27-934023c58c12>:6: RuntimeWarning: overflow encountered in exp\n",
            "  fx = 15*np.exp((15*x-5)+(15*x-5)**3)\n",
            "<ipython-input-27-934023c58c12>:6: RuntimeWarning: overflow encountered in multiply\n",
            "  fx = 15*np.exp((15*x-5)+(15*x-5)**3)\n"
          ]
        }
      ]
    },
    {
      "cell_type": "markdown",
      "source": [
        "$$\n",
        "\\int_{0}^{\\infty} x^{2}\\,(1 + x^{2})^{-3}\\,dx\n",
        "\\;=\\;\n",
        "\\int_{0}^{1} \\frac{y^{2}\\,(1 - y)^{2}}{\\bigl(y^{2} + (1 - y)^{2}\\bigr)^{3}}\\,dy\n",
        "$$"
      ],
      "metadata": {
        "id": "b6UE0zON4SxJ"
      }
    },
    {
      "cell_type": "code",
      "source": [
        "# Exercício 4 c) (Integração Monte Carlo)\n",
        "import numpy as np\n",
        "N = 10000\n",
        "# Gera N numeros aleatorios Un uniformemente distribudos em [0,1]\n",
        "U = np.random.uniform(0, 1, N)\n",
        "# Calcular g(Un)\n",
        "x = (1/U - 1)\n",
        "# A itegral e aproximadamente igual à media desses valores\n",
        "integral = np.mean(((x**2)*(1 + x**2)**-3)/U**2)\n",
        "print(integral)"
      ],
      "metadata": {
        "colab": {
          "base_uri": "https://localhost:8080/"
        },
        "id": "mIVTji4Qqx7S",
        "outputId": "88d38b9c-2517-4432-a3ce-3decdb11ea7a"
      },
      "execution_count": 2,
      "outputs": [
        {
          "output_type": "stream",
          "name": "stdout",
          "text": [
            "0.19562118643423082\n"
          ]
        }
      ]
    },
    {
      "cell_type": "markdown",
      "source": [
        "$$\n",
        "g(y) \\;=\\; 3\\,(1 - y)^{2},\n",
        "\\quad 0 \\le y \\le 1\n",
        "$$\n",
        "\n",
        "$$\n",
        "G(y)\n",
        "\\;=\\;\n",
        "\\int_{0}^{y} g(y)\\,dy\n",
        "\\;=\\;\n",
        "1 - (1 - y)^{3}\n",
        "$$\n",
        "\n",
        "$$\n",
        "y \\;=\\; G^{-1}(u)\n",
        "\\;=\\;\n",
        "1 - (1 - u)^{\\tfrac{1}{3}}\n",
        "\\;=\\;\n",
        "1 - (u)^{\\tfrac{1}{3}}\n",
        "$$"
      ],
      "metadata": {
        "id": "654azw-xAk2z"
      }
    },
    {
      "cell_type": "code",
      "source": [
        "# Exercício 4 c) (Amostragem por importancia)\n",
        "import numpy as np\n",
        "N = 1000000\n",
        "# Gera N numeros aleatorios Un uniformemente distribudos em [0,1]\n",
        "U = np.random.uniform(0, 1, N)\n",
        "# Transforma U para seguir a distribuição g(x) usando a inversa da CDF\n",
        "x = 1 - (1 - U)**(1/3)\n",
        "# A itegral e aproximadamente igual à Média de f(x)/g(x)\n",
        "fx = ((x**2)*(1-x)**2)/((2*(x**2)-2*x+1)**3)\n",
        "gx = 3*(1-x)**2\n",
        "w = fx/gx\n",
        "integral = 1/N * np.sum(w)\n",
        "print(integral)"
      ],
      "metadata": {
        "colab": {
          "base_uri": "https://localhost:8080/"
        },
        "id": "DX7q6e9I9wD9",
        "outputId": "f167af43-0fc6-41c4-ef06-5fe501e3a36c"
      },
      "execution_count": 1,
      "outputs": [
        {
          "output_type": "stream",
          "name": "stdout",
          "text": [
            "0.1962141677390191\n"
          ]
        }
      ]
    }
  ]
}