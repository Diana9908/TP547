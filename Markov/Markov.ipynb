{
  "nbformat": 4,
  "nbformat_minor": 0,
  "metadata": {
    "colab": {
      "provenance": [],
      "authorship_tag": "ABX9TyOSsIDIIyMiWVterCNFgCr2",
      "include_colab_link": true
    },
    "kernelspec": {
      "name": "python3",
      "display_name": "Python 3"
    },
    "language_info": {
      "name": "python"
    }
  },
  "cells": [
    {
      "cell_type": "markdown",
      "metadata": {
        "id": "view-in-github",
        "colab_type": "text"
      },
      "source": [
        "<a href=\"https://colab.research.google.com/github/Diana9908/TP547/blob/main/Markov/Markov.ipynb\" target=\"_parent\"><img src=\"https://colab.research.google.com/assets/colab-badge.svg\" alt=\"Open In Colab\"/></a>"
      ]
    },
    {
      "cell_type": "code",
      "source": [
        "# c) Dado que a mosca pousou no compartimento 1, a probabilidade dela cair em\n",
        "# uma teia exatamente no terceiro minuto.\n",
        "\n",
        "import numpy as np\n",
        "import matplotlib.pyplot as plt\n",
        "\n",
        "simulacoes = 100000  # Número de simulações de Monte Carlo\n",
        "probabilidades_transicao = [[1, 0, 0, 0],      # Matriz de transição\n",
        "                           [0.3, 0.4, 0.3, 0],\n",
        "                           [0, 0.3, 0.4, 0.3],\n",
        "                           [0, 0, 0, 1]]\n",
        "\n",
        "instante_t3 = 3  # minuto 3\n",
        "instante_t2 = 2  # minuto 2\n",
        "\n",
        "# Vetor para armazenar o compartimento ocupado em t = 3 e t = 2 para cada\n",
        "# simulação\n",
        "estado_em_t3 = np.zeros(simulacoes, dtype=int)\n",
        "estado_em_t2 = np.zeros(simulacoes, dtype=int)\n",
        "\n",
        "for s in range(simulacoes):\n",
        "    # Vetor para armazenar toda a trajetória da mosca\n",
        "    chain = np.zeros(instante_t3 + 2, int)\n",
        "    # A mosca está inicialmente no compartimento 1\n",
        "    chain[0] = 1\n",
        "\n",
        "    for i in range(instante_t3 + 1):\n",
        "        # Sorteia o próximo estado\n",
        "        linha_atual = probabilidades_transicao[chain[i]]\n",
        "        acumulada = np.cumsum(linha_atual)\n",
        "        r = np.random.uniform(0, 1)\n",
        "        chain[i+1] = np.argmax(acumulada > r)\n",
        "\n",
        "        # Se a mosca entrar nos compartimentos 0 ou 3, fica presa\n",
        "        if chain[i+1] == 0:\n",
        "            chain[i+1:] = 0\n",
        "            break\n",
        "        if chain[i+1] == 3:\n",
        "            chain[i+1:] = 3\n",
        "            break\n",
        "\n",
        "    estado_em_t3[s] = chain[instante_t3]\n",
        "    estado_em_t2[s] = chain[instante_t2]\n",
        "\n",
        "# Probabilidade de estar em 0 ou 3 no minuto 3\n",
        "probabilidade_abs_t3  = (np.sum(estado_em_t3 == 0) + np.sum(estado_em_t3 == 3)) / simulacoes\n",
        "# Probabilidade de estar em 0 ou 3 no minuto 2\n",
        "probabilidade_abs_t2  = (np.sum(estado_em_t2 == 0) + np.sum(estado_em_t2 == 3)) / simulacoes\n",
        "# Probabilidade de ser absorvida exatamente no minuto 3\n",
        "probabilidade_ext_t3  = probabilidade_abs_t3 - probabilidade_abs_t2\n",
        "\n",
        "print('Probabilidade de cair em uma teia de aranha exatamente no terceiro minuto:', probabilidade_ext_t3)\n"
      ],
      "metadata": {
        "colab": {
          "base_uri": "https://localhost:8080/"
        },
        "id": "FtNKis0HkmOS",
        "outputId": "a356c2fe-be09-49c4-9235-87a20e113a20"
      },
      "execution_count": null,
      "outputs": [
        {
          "output_type": "stream",
          "name": "stdout",
          "text": [
            "Probabilidade de cair em uma teia de aranha exatamente no terceiro minuto: 0.14580000000000004\n"
          ]
        }
      ]
    },
    {
      "cell_type": "code",
      "source": [
        "# d) Número médio de passos para a absorção.\n",
        "import numpy as np\n",
        "import matplotlib.pyplot as plt\n",
        "def num_medio_passos(estado_transitorio_inicial):\n",
        "  simulacoes = 100000  # Número de simulações de Monte Carlo\n",
        "  probabilidades_transicao = [[1, 0, 0, 0],      # Matriz de transição\n",
        "                            [0.3, 0.4, 0.3, 0],\n",
        "                            [0, 0.3, 0.4, 0.3],\n",
        "                            [0, 0, 0, 1]]\n",
        "  passo_sim = np.zeros(simulacoes)\n",
        "\n",
        "  for s in range(simulacoes):\n",
        "      # Inicializar o número de passos e 0\n",
        "      passo = 0\n",
        "      # Vetor para armazenar toda a trajetória da mosca\n",
        "      chain = np.zeros(1000, dtype=int)\n",
        "      # Compartimento inicial\n",
        "      chain[0] = estado_transitorio_inicial\n",
        "      if chain[0] == 0:\n",
        "        passo_sim[s] = passo\n",
        "        continue\n",
        "      if chain[0] == 3:\n",
        "        passo_sim[s] = passo\n",
        "        continue\n",
        "      else:\n",
        "        for i in range(len(chain) - 1):\n",
        "            # Aumentar o número de passos\n",
        "            passo = passo + 1\n",
        "            # Sorteia o próximo estado\n",
        "            linha_atual = probabilidades_transicao[chain[i]]\n",
        "            acumulada = np.cumsum(linha_atual)\n",
        "            r = np.random.uniform(0, 1)\n",
        "            chain[i+1] = np.argmax(acumulada > r)\n",
        "\n",
        "            # Se a mosca entrar nos compartimentos 0 ou 3, fica presa\n",
        "            if chain[i+1] == 0:\n",
        "                passo_sim[s] = passo\n",
        "                break\n",
        "            if chain[i+1] == 3:\n",
        "                passo_sim[s] = passo\n",
        "                break\n",
        "\n",
        "  # Número médio de passos para a absorção\n",
        "  passo_meio  = (np.sum(passo_sim) / simulacoes)\n",
        "  return passo_meio\n",
        "\n",
        "for compartimento in range(4):\n",
        "    media = num_medio_passos(compartimento)\n",
        "    print(f\"Média de passos saindo do compartimento {compartimento}: {media:.3f}\")"
      ],
      "metadata": {
        "colab": {
          "base_uri": "https://localhost:8080/"
        },
        "id": "c7XrpRtAqpIT",
        "outputId": "544efe8d-c690-4053-c13e-df32696df0ea"
      },
      "execution_count": null,
      "outputs": [
        {
          "output_type": "stream",
          "name": "stdout",
          "text": [
            "Média de passos saindo do compartimento 0: 0.000\n",
            "Média de passos saindo do compartimento 1: 3.328\n",
            "Média de passos saindo do compartimento 2: 3.318\n",
            "Média de passos saindo do compartimento 3: 0.000\n"
          ]
        }
      ]
    },
    {
      "cell_type": "code",
      "source": [
        "# e) A probabilidade  de ser absorvido associada a cada estado.\n",
        "import numpy as np\n",
        "import matplotlib.pyplot as plt\n",
        "\n",
        "def probabilidade_abs(estado_inicial):\n",
        "  simulacoes = 100000  # Número de simulações de Monte Carlo\n",
        "  probabilidades_transicao = [[1, 0, 0, 0],      # Matriz de transição\n",
        "                            [0.3, 0.4, 0.3, 0],\n",
        "                            [0, 0.3, 0.4, 0.3],\n",
        "                            [0, 0, 0, 1]]\n",
        "  abs0 = 0\n",
        "  abs3 = 0\n",
        "\n",
        "  for s in range(simulacoes):\n",
        "      # Vetor para armazenar toda a trajetória da mosca\n",
        "      chain = np.zeros(100000, int)\n",
        "      chain[0] = estado_inicial\n",
        "\n",
        "      for i in range(len(chain)- 1):\n",
        "          # Sorteia o próximo estado\n",
        "          linha_atual = probabilidades_transicao[chain[i]]\n",
        "          acumulada = np.cumsum(linha_atual)\n",
        "          r = np.random.uniform(0, 1)\n",
        "          chain[i+1] = np.argmax(acumulada > r)\n",
        "\n",
        "          # Se a mosca entrar nos compartimentos 0 ou 3, fica presa\n",
        "          if chain[i+1] == 0:\n",
        "              abs0 = abs0 + 1\n",
        "              break\n",
        "          if chain[i+1] == 3:\n",
        "              abs3 = abs3+ 1\n",
        "              break\n",
        "\n",
        "  # Probabilidade de ser absorvido em 0\n",
        "  probabilidade_abs0  = abs0 / simulacoes\n",
        "  # Probabilidade de ser absorvido em 3\n",
        "  probabilidade_abs3  = abs3 / simulacoes\n",
        "\n",
        "  return probabilidade_abs0, probabilidade_abs3\n",
        "\n",
        "for estado_inicial in [1, 2]:\n",
        "    p0, p3 = probabilidade_abs(estado_inicial)\n",
        "    print(f\"Estado inicial {estado_inicial}: \"\n",
        "          f\"Probabilidade de cair na teia 0 = {p0:.3f}, \"\n",
        "          f\"Probabilidade de cair na teia 3 = {p3:.3f}\")\n"
      ],
      "metadata": {
        "colab": {
          "base_uri": "https://localhost:8080/"
        },
        "id": "WDC42nZ4yi7a",
        "outputId": "a1876bde-3d15-4717-c476-c7f910ba3c9f"
      },
      "execution_count": null,
      "outputs": [
        {
          "output_type": "stream",
          "name": "stdout",
          "text": [
            "Estado inicial 1: Probabilidade de cair na teia 0 = 0.664, Probabilidade de cair na teia 3 = 0.336\n",
            "Estado inicial 2: Probabilidade de cair na teia 0 = 0.334, Probabilidade de cair na teia 3 = 0.666\n"
          ]
        }
      ]
    },
    {
      "cell_type": "code",
      "source": [
        "# Plotar o gráfico mostrando as transições e a absorção\n",
        "import numpy as np\n",
        "import matplotlib.pyplot as plt\n",
        "def transicoes(estado_transitorio_inicial):\n",
        "  probabilidades_transicao = [[1, 0, 0, 0],      # Matriz de transição\n",
        "                            [0.3, 0.4, 0.3, 0],\n",
        "                            [0, 0.3, 0.4, 0.3],\n",
        "                            [0, 0, 0, 1]]\n",
        "  # Vetor para armazenar toda a trajetória da mosca\n",
        "  chain = np.zeros(15, dtype=int)\n",
        "  # Compartimento inicial\n",
        "  chain[0] = estado_transitorio_inicial\n",
        "  if chain[0] == 0:\n",
        "    chain[0:] = 0\n",
        "  elif chain[0] == 3:\n",
        "    chain[0:] = 3\n",
        "  else:\n",
        "    for i in range(len(chain) - 1):\n",
        "      # Sorteia o próximo estado\n",
        "      linha_atual = probabilidades_transicao[chain[i]]\n",
        "      acumulada = np.cumsum(linha_atual)\n",
        "      r = np.random.uniform(0, 1)\n",
        "      chain[i+1] = np.argmax(acumulada > r)\n",
        "\n",
        "      # Se a mosca entrar nos compartimentos 0 ou 3, fica presa\n",
        "      if chain[i+1] == 0:\n",
        "          chain[i+1:] = 0\n",
        "          break\n",
        "      if chain[i+1] == 3:\n",
        "          chain[i+1:] = 3\n",
        "          break\n",
        "\n",
        "  return chain\n",
        "\n",
        "y = transicoes(2)\n",
        "plt.plot(range(len(y)), y, )\n",
        "plt.plot(range(len(y)), y, \"o\", color=\"tab:orange\")\n",
        "plt.grid()\n",
        "plt.show()\n"
      ],
      "metadata": {
        "colab": {
          "base_uri": "https://localhost:8080/",
          "height": 430
        },
        "id": "69t2-vhrOZh9",
        "outputId": "0262e95d-17f7-4ffa-d18a-4ff48994ee6c"
      },
      "execution_count": null,
      "outputs": [
        {
          "output_type": "display_data",
          "data": {
            "text/plain": [
              "<Figure size 640x480 with 1 Axes>"
            ],
            "image/png": "[encoded data removed]"
          },
          "metadata": {}
        }
      ]
    }
  ]
}